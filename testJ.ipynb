{
 "cells": [
  {
   "cell_type": "markdown",
   "metadata": {},
   "source": [
    "# \"My Jupyter Notebook on IBM Data Science Experience\""
   ]
  },
  {
   "cell_type": "markdown",
   "metadata": {},
   "source": [
    "**Ryan Osama**  \n",
    "I'm currently a senior software developer!"
   ]
  },
  {
   "cell_type": "markdown",
   "metadata": {},
   "source": [
    "* I am interested in data science because it is a field that interests me and I want to learn it, and I can reach big goals with it. *"
   ]
  },
  {
   "cell_type": "markdown",
   "metadata": {},
   "source": [
    "### _My code is print a sentence (Welcome in IBM ) 3 times with loop_"
   ]
  },
  {
   "cell_type": "code",
   "execution_count": 5,
   "metadata": {},
   "outputs": [
    {
     "name": "stdout",
     "output_type": "stream",
     "text": [
      "Welcome in IBM.\n",
      "Welcome in IBM.\n",
      "Welcome in IBM.\n"
     ]
    }
   ],
   "source": [
    "count = 0\n",
    "while (count < 3):   \n",
    "    count = count + 1\n",
    "    print(\"Welcome in IBM.\")\n",
    "\n",
    "   "
   ]
  },
  {
   "cell_type": "markdown",
   "metadata": {},
   "source": [
    "___\n",
    "###  1. Data Science:  \n",
    "Data science is the process of gathering data, pre-processing it, analyzing it, visualizing it, and then deciding or predicting anything that may lead to the end goal that the process started with.\n",
    "___\n",
    "\n",
    "###  2. _Final deliverable:_\n",
    "\n",
    "The following may be included in the data science project's final deliverable:\n",
    "* Cover page: The title and names are placed on the cover page.\n",
    "* Table of contents: Contains clearly defined page numbers for all content.\n",
    "* Abstract: A succinct summary of everything done in this report.\n",
    "* Acknowledgment: Thank you to everyone who helped and motivated you while writing the report.\n",
    "* References: List all the persons and sources that you used to write your report.\n",
    "* Methodology: Describe the resources and techniques you utilized to produce your report.\n",
    "* Results: Summarize your findings using data from graphs and statistics.\n",
    "* Discussion: this is where you base your claims on the evidence you gathered.\n",
    "* Conclusion:Summarize your findings and outcomes in the conclusion.\n",
    "* Appendix: To incorporate all the information and content that is not necessary for the primary \n",
    "\n",
    "___\n",
    ">Extra unimportant tasks just to practice :)\n",
    "___\n",
    "\n",
    "<font size=\"6\"> <center> <a href=\"#\">Ryan Osama</a> <font>\n",
    "\n",
    "___\n",
    "    \n",
    "![alt text](https://clickbabynames.com/wp-content/uploads/baby-name-ryan-clickbabynames1-scaled.jpg)"
   ]
  }
 ],
 "metadata": {
  "kernelspec": {
   "display_name": "Python 3 (ipykernel)",
   "language": "python",
   "name": "python3"
  },
  "language_info": {
   "codemirror_mode": {
    "name": "ipython",
    "version": 3
   },
   "file_extension": ".py",
   "mimetype": "text/x-python",
   "name": "python",
   "nbconvert_exporter": "python",
   "pygments_lexer": "ipython3",
   "version": "3.10.4"
  }
 },
 "nbformat": 4,
 "nbformat_minor": 4
}
